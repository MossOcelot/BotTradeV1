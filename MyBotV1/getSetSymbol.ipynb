{
 "cells": [
  {
   "cell_type": "code",
   "execution_count": 57,
   "metadata": {},
   "outputs": [],
   "source": [
    "from selenium import webdriver\n",
    "from selenium.webdriver.chrome.service import Service\n",
    "from webdriver_manager.chrome import ChromeDriverManager\n",
    "import pandas as pd"
   ]
  },
  {
   "cell_type": "code",
   "execution_count": 58,
   "metadata": {},
   "outputs": [],
   "source": [
    "driver = webdriver.Chrome(service=Service(ChromeDriverManager().install()))"
   ]
  },
  {
   "cell_type": "code",
   "execution_count": 65,
   "metadata": {},
   "outputs": [
    {
     "name": "stdout",
     "output_type": "stream",
     "text": [
      "https://www.set.or.th/th/market/index/set/agro\n",
      "https://www.set.or.th/th/market/index/set/consump\n",
      "https://www.set.or.th/th/market/index/set/fincial\n",
      "https://www.set.or.th/th/market/index/set/indus\n",
      "https://www.set.or.th/th/market/index/set/propcon\n",
      "https://www.set.or.th/th/market/index/set/resourc\n",
      "https://www.set.or.th/th/market/index/set/service\n",
      "https://www.set.or.th/th/market/index/set/tech\n"
     ]
    }
   ],
   "source": [
    "industry_symbols = ['agro', 'consump', 'fincial', 'indus', 'propcon', 'resourc', 'service', 'tech']\n",
    "\n",
    "for symbol in industry_symbols:\n",
    "    url = f'https://www.set.or.th/th/market/index/set/{symbol}'\n",
    "    print(url)"
   ]
  },
  {
   "cell_type": "code",
   "execution_count": 60,
   "metadata": {},
   "outputs": [],
   "source": [
    "driver.get(url)"
   ]
  },
  {
   "cell_type": "code",
   "execution_count": 61,
   "metadata": {},
   "outputs": [
    {
     "name": "stderr",
     "output_type": "stream",
     "text": [
      "C:\\Users\\phumi\\AppData\\Local\\Temp\\ipykernel_4104\\2995560634.py:1: FutureWarning: Passing literal html to 'read_html' is deprecated and will be removed in a future version. To read from a literal string, wrap it in a 'StringIO' object.\n",
      "  data_list = pd.read_html(driver.page_source)\n"
     ]
    }
   ],
   "source": [
    "data_list = pd.read_html(driver.page_source)"
   ]
  },
  {
   "cell_type": "code",
   "execution_count": 64,
   "metadata": {},
   "outputs": [
    {
     "data": {
      "text/plain": [
       "2      AGRI - ธุรกิจการเกษตร\n",
       "3                     EE  CB\n",
       "5                       GFPT\n",
       "7                        LEE\n",
       "9                        NER\n",
       "               ...          \n",
       "128                       TU\n",
       "130                      TVO\n",
       "132                 TWPC  XD\n",
       "134                    W  CB\n",
       "136                      ZEN\n",
       "Name: หลักทรัพย์, Length: 69, dtype: object"
      ]
     },
     "execution_count": 64,
     "metadata": {},
     "output_type": "execute_result"
    }
   ],
   "source": [
    "data = data_list[1]['หลักทรัพย์'].dropna().iloc[1:]\n",
    "\n",
    "data"
   ]
  },
  {
   "cell_type": "code",
   "execution_count": 18,
   "metadata": {},
   "outputs": [
    {
     "ename": "AttributeError",
     "evalue": "'StockSymbol' object has no attribute 'getIndustrySymbols'",
     "output_type": "error",
     "traceback": [
      "\u001b[1;31m---------------------------------------------------------------------------\u001b[0m",
      "\u001b[1;31mAttributeError\u001b[0m                            Traceback (most recent call last)",
      "Cell \u001b[1;32mIn[18], line 3\u001b[0m\n\u001b[0;32m      1\u001b[0m \u001b[38;5;28;01mfrom\u001b[39;00m \u001b[38;5;21;01mGetResourceFunction\u001b[39;00m\u001b[38;5;21;01m.\u001b[39;00m\u001b[38;5;21;01mgetstocksymbols\u001b[39;00m \u001b[38;5;28;01mimport\u001b[39;00m \u001b[38;5;241m*\u001b[39m\n\u001b[1;32m----> 3\u001b[0m \u001b[43mStockSymbol\u001b[49m\u001b[43m(\u001b[49m\u001b[43m)\u001b[49m\u001b[38;5;241;43m.\u001b[39;49m\u001b[43mgetIndustrySymbols\u001b[49m()\n",
      "\u001b[1;31mAttributeError\u001b[0m: 'StockSymbol' object has no attribute 'getIndustrySymbols'"
     ]
    }
   ],
   "source": [
    "from GetResourceFunction.getstocksymbols import *\n",
    "\n",
    "StockSymbol().getIndustrySymbols()\n",
    "\n"
   ]
  }
 ],
 "metadata": {
  "kernelspec": {
   "display_name": ".venv",
   "language": "python",
   "name": "python3"
  },
  "language_info": {
   "codemirror_mode": {
    "name": "ipython",
    "version": 3
   },
   "file_extension": ".py",
   "mimetype": "text/x-python",
   "name": "python",
   "nbconvert_exporter": "python",
   "pygments_lexer": "ipython3",
   "version": "3.10.11"
  }
 },
 "nbformat": 4,
 "nbformat_minor": 2
}
