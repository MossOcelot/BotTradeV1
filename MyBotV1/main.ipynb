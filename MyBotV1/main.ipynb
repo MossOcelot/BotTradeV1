{
 "cells": [
  {
   "cell_type": "code",
   "execution_count": 41,
   "metadata": {},
   "outputs": [],
   "source": [
    "import os\n",
    "from dotenv import load_dotenv\n",
    "from settrade_v2 import Investor\n",
    "import matplotlib.pyplot as plt\n",
    "import pandas as pd\n",
    "from mpl_finance import candlestick_ohlc \n",
    "import matplotlib.dates as mpl_dates \n",
    "\n",
    "load_dotenv()\n",
    "\n",
    "investor = Investor(    \n",
    "    app_id=os.getenv('app_id'),    \n",
    "    app_secret=os.getenv('app_secret'),\n",
    "    broker_id=os.getenv('broker_id'),\n",
    "    app_code=os.getenv('app_code'),\n",
    "    is_auto_queue = False\n",
    ")"
   ]
  },
  {
   "cell_type": "markdown",
   "metadata": {},
   "source": [
    "1. Get Market History Data"
   ]
  },
  {
   "cell_type": "code",
   "execution_count": 20,
   "metadata": {},
   "outputs": [],
   "source": [
    "market = investor.MarketData()"
   ]
  },
  {
   "cell_type": "code",
   "execution_count": 55,
   "metadata": {},
   "outputs": [],
   "source": [
    "res = market.get_candlestick(symbol=\"TISCO\", interval=\"1d\", limit=2, normalized=True)"
   ]
  },
  {
   "cell_type": "code",
   "execution_count": 56,
   "metadata": {},
   "outputs": [],
   "source": [
    "stock_prices = pd.DataFrame(res)"
   ]
  },
  {
   "cell_type": "code",
   "execution_count": 58,
   "metadata": {},
   "outputs": [
    {
     "data": {
      "image/png": "[encoded data removed]",
      "text/plain": [
       "<Figure size 640x480 with 1 Axes>"
      ]
     },
     "metadata": {},
     "output_type": "display_data"
    }
   ],
   "source": [
    "plt.figure() \n",
    "  \n",
    "# \"up\" dataframe will store the stock_prices  \n",
    "# when the closing stock price is greater \n",
    "# than or equal to the opening stock prices \n",
    "up = stock_prices[stock_prices.close >= stock_prices.open] \n",
    "  \n",
    "# \"down\" dataframe will store the stock_prices \n",
    "# when the closing stock price is \n",
    "# lesser than the opening stock prices \n",
    "down = stock_prices[stock_prices.close < stock_prices.open] \n",
    "  \n",
    "# When the stock prices have decreased, then it \n",
    "# will be represented by red color candlestick \n",
    "col1 = 'red'\n",
    "  \n",
    "# When the stock prices have increased, then it  \n",
    "# will be represented by green color candlestick \n",
    "col2 = 'green'\n",
    "  \n",
    "# Setting width of candlestick elements \n",
    "width = .3\n",
    "width2 = .03\n",
    "  \n",
    "# Plotting up prices of the stock \n",
    "plt.bar(up.index, up.close-up.open, width, bottom=up.open, color=col1) \n",
    "plt.bar(up.index, up.high-up.close, width2, bottom=up.close, color=col1) \n",
    "plt.bar(up.index, up.low-up.open, width2, bottom=up.open, color=col1) \n",
    "  \n",
    "# Plotting down prices of the stock \n",
    "plt.bar(down.index, down.close-down.open, width, bottom=down.open, color=col2) \n",
    "plt.bar(down.index, down.high-down.open, width2, bottom=down.open, color=col2) \n",
    "plt.bar(down.index, down.low-down.close, width2, bottom=down.close, color=col2) \n",
    "  \n",
    "# rotating the x-axis tick labels at 30degree  \n",
    "# towards right \n",
    "plt.xticks(rotation=30, ha='right') \n",
    "  \n",
    "# displaying candlestick chart of stock data  \n",
    "# of a week \n",
    "plt.show() "
   ]
  }
 ],
 "metadata": {
  "kernelspec": {
   "display_name": ".venv",
   "language": "python",
   "name": "python3"
  },
  "language_info": {
   "codemirror_mode": {
    "name": "ipython",
    "version": 3
   },
   "file_extension": ".py",
   "mimetype": "text/x-python",
   "name": "python",
   "nbconvert_exporter": "python",
   "pygments_lexer": "ipython3",
   "version": "3.10.11"
  }
 },
 "nbformat": 4,
 "nbformat_minor": 2
}
